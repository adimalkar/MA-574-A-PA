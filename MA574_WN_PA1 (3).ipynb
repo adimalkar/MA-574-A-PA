{
 "cells": [
  {
   "cell_type": "markdown",
   "id": "3b4df8f3",
   "metadata": {},
   "source": [
    "# Programming Assignment 1\n",
    "---"
   ]
  },
  {
   "cell_type": "code",
   "execution_count": 43,
   "id": "cf5849e0",
   "metadata": {},
   "outputs": [],
   "source": [
    "import numpy as np\n",
    "import pandas as pd\n",
    "import requests\n",
    "import matplotlib.pyplot as plt\n",
    "from collections import Counter\n",
    "import re\n",
    "from sklearn.datasets import load_iris\n",
    "import string"
   ]
  },
  {
   "cell_type": "markdown",
   "id": "facda38c",
   "metadata": {},
   "source": [
    "## Question 1\n",
    "\n",
    "The following should be noted regarding scaling the rows or columns of a matrix\n",
    "\n",
    "- the multiplication by a diagonal matrix $D_1$ from the left scales the rows of a matrix by the respective diagonal entries in $D_1$. For example\n",
    "$$\n",
    "\\begin{bmatrix}d_{11} & 0 & 0\\\\ 0 & d_{22} & 0 \\\\0 & 0 & d_{33} \\end{bmatrix}\n",
    "\\begin{bmatrix}\n",
    "a_{11} & a_{12} & a_{13}& a_{14}\\\\ \n",
    "a_{21} & a_{22} & a_{23}& a_{24} \\\\\n",
    "a_{31} & a_{32} & a_{33}& a_{34} \n",
    "\\end{bmatrix}=\n",
    "\\begin{bmatrix}d_{11}\\,a_{11} & d_{11}\\,a_{12} & d_{11}\\,a_{13}& d_{11}\\,a_{14}\\\\ \n",
    "d_{22}\\,a_{21} & d_{22}\\,a_{22} & d_{22}\\,a_{23}& d_{11}\\,a_{24} \\\\\n",
    "d_{33}\\,a_{31} &d_{33}\\, a_{32} & d_{33}\\,a_{33} &d_{11}\\, a_{34}\n",
    "\\end{bmatrix}.\n",
    "$$\n",
    "\n",
    "- the multiplication by a diagonal matrix $D_2$ from the right scales the columns of a matrix by the respective diagonal entries in $D_2$.\n",
    "$$\n",
    "\\begin{bmatrix}\n",
    "a_{11} & a_{12} & a_{13}& a_{14}\\\\ \n",
    "a_{21} & a_{22} & a_{23}& a_{24} \\\\\n",
    "a_{31} & a_{32} & a_{33}& a_{34} \n",
    "\\end{bmatrix}\n",
    "\\begin{bmatrix}\n",
    "d_{11} & 0 & 0 & 0\\\\ \n",
    "0 & d_{22} & 0& 0 \\\\\n",
    "0 & 0 & d_{33} & 0\\\\\n",
    "0 & 0 & 0 & d_{44} \n",
    "\\end{bmatrix}=\n",
    "\\begin{bmatrix}\n",
    "d_{11}\\,a_{11} & d_{22}\\,a_{12} & d_{33}\\,a_{13}& d_{44}\\,a_{14}\\\\ \n",
    "d_{11}\\,a_{21} & d_{22}\\,a_{22} & d_{33}\\,a_{23}& d_{44}\\,a_{24} \\\\\n",
    "d_{11}\\,a_{31} &d_{22}\\, a_{32} & d_{33}\\,a_{33} &d_{44}\\, a_{34}\n",
    "\\end{bmatrix}.\n",
    "$$"
   ]
  },
  {
   "cell_type": "markdown",
   "id": "6a48ddf9",
   "metadata": {},
   "source": [
    "Answer the following\n",
    "\n",
    "A. Create a random matrix of $A$ of order $4 \\times 5 $ made of integers ranging from $-9$ to $9$. Print this matrix.\n",
    "\n",
    "B. Ask the user to provide $4$ natural numbers. Write Python code to efficiently perform the row scaling of the matrix $A$ by using the above inputs. Print the row-scaled matrix.\n",
    "\n",
    "C. Ask the user to provide $5$ natural numbers. Write Python code to efficiently perform the column scaling of the matrix $A$ by using the above inputs.  Print the column-scaled matrix.\n",
    "\n",
    "D. Use the ideas of a permutation vector and a permutation matrix to shuffle the rows as $(3, 1, 2)$ and columns as $(3, 4, 1, 2)$ of the matrix $A$.\n",
    "\n",
    "> Left multiplication of a matrix $A$ by a permutation matrix $P_l$ swaps the rows of $A$ and right multiplication of a matrix $A$ by a permutation matrix $P_r^T$ swaps the columns of $A$ according to a given ordering."
   ]
  },
  {
   "cell_type": "markdown",
   "id": "a8f110a0-a131-4745-ab5f-fdda3fbcf4e1",
   "metadata": {},
   "source": [
    "# SOLUTION:"
   ]
  },
  {
   "cell_type": "code",
   "execution_count": 6,
   "id": "36a56730-abcf-40b8-b1ec-eb4c8d058b23",
   "metadata": {},
   "outputs": [
    {
     "name": "stdout",
     "output_type": "stream",
     "text": [
      "The random matrix (mat) is: \n",
      " [[-5  0  7  6  2]\n",
      " [ 5 -6 -3 -6 -6]\n",
      " [ 3 -7  6  1 -9]\n",
      " [-8 -1 -4 -1  8]]\n",
      "Row Scaling Matrix:\n",
      " [[-105    0  147  126   42]\n",
      " [  65  -78  -39  -78  -78]\n",
      " [ 174 -406  348   58 -522]\n",
      " [-256  -32 -128  -32  256]]\n",
      "Column Scaling matrix:\n",
      " [[ -35    0  203  246  154]\n",
      " [  35 -492  -87 -246 -462]\n",
      " [  21 -574  174   41 -693]\n",
      " [ -56  -82 -116  -41  616]]\n",
      "Shuffled matrix:\n",
      " [[ 6  1  3 -7]\n",
      " [ 7  6 -5  0]\n",
      " [-3 -6  5 -6]\n",
      " [-4 -1 -8 -1]]\n"
     ]
    }
   ],
   "source": [
    "# SUB QUEESTION A\n",
    "# Here, I have used mat as the varible to generate a random matrix\n",
    "# Using random function we will generate the matrix within the range -9 to 9 as specified in question\n",
    "# The (4,5) defines the number of rows and columns respectively\n",
    "mat = np.random.randint(-9, 9, (4, 5))\n",
    "# Now we will print the matrix\n",
    "print(\"The random matrix (mat) is: \\n\", mat)\n",
    "\n",
    "# SUB QUESTION B\n",
    "# Here I have selected the 4 natural number for row scaling as 21,13,58,32\n",
    "row = np.array([21, 13, 58, 32])\n",
    "# Perform row scaling by multiplying each row with its corresponding scaling factor\n",
    "sqb = mat * row[:, np.newaxis]\n",
    "print(\"Row Scaling Matrix:\\n\", sqb)\n",
    "\n",
    "# SUB QUESTION C\n",
    "col = np.array([7, 82, 29, 41, 77])\n",
    "# Perform column scaling by multiplying each column with its corresponding scaling factor\n",
    "sqc = mat * col\n",
    "print(\"Column Scaling matrix:\\n\", sqc)\n",
    "\n",
    "# SUB QUESTION D\n",
    "r_per = [2, 0, 1, 3]  # zero-indexed row permutation (3, 1, 2)\n",
    "c_per = [2, 3, 0, 1]  # zero-indexed column permutation (3, 4, 1, 2)\n",
    "# Apply row and column shuffling using the permutation\n",
    "sqd = mat[np.ix_(r_per, c_per)]\n",
    "print(\"Shuffled matrix:\\n\", sqd)"
   ]
  },
  {
   "cell_type": "code",
   "execution_count": 7,
   "id": "6515abf6",
   "metadata": {},
   "outputs": [
    {
     "name": "stdout",
     "output_type": "stream",
     "text": [
      "The given ordering is:\n",
      " [3, 0, 1, 2]\n",
      "\n",
      " The required permutation matrix is:\n",
      " [[0. 0. 0. 1.]\n",
      " [1. 0. 0. 0.]\n",
      " [0. 1. 0. 0.]\n",
      " [0. 0. 1. 0.]]\n"
     ]
    }
   ],
   "source": [
    "# Find a permutation matrix that changes row or column ordering from [0,1,2,3] to [3,0,1,2]\n",
    "p_vec = [3,0,1,2]\n",
    "I4 = np.eye(4)\n",
    "P = I4[p_vec,:]\n",
    "\n",
    "print(\"The given ordering is:\\n\",p_vec)\n",
    "print(\"\\n The required permutation matrix is:\\n\",P)"
   ]
  },
  {
   "cell_type": "markdown",
   "id": "a24d4417",
   "metadata": {},
   "source": [
    "## Question 2\n",
    "\n",
    "Download the [iris flower dataset](https://archive.ics.uci.edu/dataset/53/iris) on your computer. Load the data into a dataframe and into a matrix $X$ subsequently. Do the following on the data-matrix.\n",
    "\n",
    "A. Find the maximum, minimum, mean, standard deviation etc. of the four features (columns) by using basic NumPy functions.\n",
    "\n",
    "B. Find the covariance and correlation coefficient of the second and the third features.\n",
    "\n",
    "C. Find the mean and the standard deviation of the features for the three different types of flowers."
   ]
  },
  {
   "cell_type": "markdown",
   "id": "c15c7679-4cd2-4807-8afa-147a230eb481",
   "metadata": {},
   "source": [
    "# Solution"
   ]
  },
  {
   "cell_type": "code",
   "execution_count": 41,
   "id": "97c618dd",
   "metadata": {},
   "outputs": [
    {
     "name": "stdout",
     "output_type": "stream",
     "text": [
      "Feature Statistics:\n",
      "                    max  min      mean       std\n",
      "sepal length (cm)  7.9  4.3  5.843333  0.828066\n",
      "sepal width (cm)   4.4  2.0  3.057333  0.435866\n",
      "petal length (cm)  6.9  1.0  3.758000  1.765298\n",
      "petal width (cm)   2.5  0.1  1.199333  0.762238\n"
     ]
    }
   ],
   "source": [
    "# Loading the Iris dataset into a dataframe and subsequently into the matrix\n",
    "# To load the iris dataset I have used the load_iris function \n",
    "iris = load_iris()\n",
    "# Here the keyword 'data' holds the features of the iris flower \n",
    "# The keyword 'feature_names' specifies the columns like sepal or petal length, width, etc\n",
    "df = pd.DataFrame(data=iris['data'], columns=iris['feature_names']) \n",
    "df['species'] = iris['target'] \n",
    "\n",
    "# For Sub-Question A: We calculate max, min, mean, std for all features\n",
    "# Here I have created a dictionary named statistics \n",
    "# This statistics contains maximum, minimum, mean and standard deviation\n",
    "# Here I have used the df.iloc method to retrieve rows and columns by specifying their indices\n",
    "statistics = {\n",
    "    'max': df.iloc[:, :-1].max(),\n",
    "    'min': df.iloc[:, :-1].min(),\n",
    "    'mean': df.iloc[:, :-1].mean(),\n",
    "    'std': df.iloc[:, :-1].std()\n",
    "}\n",
    "s_df = pd.DataFrame(statistics)\n",
    "\n",
    "# Now we print the Features\n",
    "print(\"Feature Statistics:\\n\", s_df)"
   ]
  },
  {
   "cell_type": "code",
   "execution_count": 11,
   "id": "6b898e22-b57e-48e6-8804-bf3c6b455b35",
   "metadata": {},
   "outputs": [
    {
     "name": "stdout",
     "output_type": "stream",
     "text": [
      "\n",
      "Covariance between second and third features: -0.3296563758389261\n",
      "Correlation coefficient between second and third features: -0.4284401043305394\n"
     ]
    }
   ],
   "source": [
    "# For Sub-question B: Covariance and correlation of the second and third features\n",
    "# Retrieve the second feature column (sepal width in cm)\n",
    "second_feature = df.iloc[:, 1]\n",
    "\n",
    "# Retrieve the third feature column (petal length in cm)\n",
    "third_feature = df.iloc[:, 2]\n",
    "\n",
    "# Calculate the covariance between the second and third features\n",
    "# np.cov calculates the covariance matrix, and we extract the [0, 1] value\n",
    "covariance = np.cov(second_feature, third_feature)[0, 1]\n",
    "\n",
    "# Calculate the correlation coefficient between the second and third features\n",
    "# np.corrcoef returns the correlation matrix, and we extract the [0, 1] value\n",
    "correlation = np.corrcoef(second_feature, third_feature)[0, 1]\n",
    "\n",
    "# Print the covariance between the second and third features\n",
    "print(f\"\\nCovariance between second and third features: {covariance}\")\n",
    "\n",
    "# Print the correlation coefficient between the second and third features\n",
    "print(f\"Correlation coefficient between second and third features: {correlation}\")"
   ]
  },
  {
   "cell_type": "code",
   "execution_count": 12,
   "id": "fbc5d957-389f-4179-bf2d-24bea1678ed7",
   "metadata": {},
   "outputs": [
    {
     "name": "stdout",
     "output_type": "stream",
     "text": [
      "\n",
      "Grouped Feature Stats by Species:\n",
      "         sepal length (cm)           sepal width (cm)            \\\n",
      "                     mean       std             mean       std   \n",
      "species                                                          \n",
      "0                   5.006  0.352490            3.428  0.379064   \n",
      "1                   5.936  0.516171            2.770  0.313798   \n",
      "2                   6.588  0.635880            2.974  0.322497   \n",
      "\n",
      "        petal length (cm)           petal width (cm)            \n",
      "                     mean       std             mean       std  \n",
      "species                                                         \n",
      "0                   1.462  0.173664            0.246  0.105386  \n",
      "1                   4.260  0.469911            1.326  0.197753  \n",
      "2                   5.552  0.551895            2.026  0.274650  \n"
     ]
    }
   ],
   "source": [
    "# Part C: Mean and std for the features by species\n",
    "# Group the dataframe by the 'species' column\n",
    "# The groupby method groups the data by the species (target) column\n",
    "\n",
    "grouped_stats = df.groupby('species').agg(['mean', 'std'])\n",
    "\n",
    "# The agg method is used to apply aggregation functions ('mean' and 'std') \n",
    "# to the grouped data for each species (setosa, versicolor, virginica) \n",
    "# across all the feature columns (sepal length, sepal width, petal length, petal width)\n",
    "\n",
    "# Print the grouped statistics (mean and standard deviation) by species\n",
    "print(\"\\nGrouped Feature Stats by Species:\\n\", grouped_stats)"
   ]
  },
  {
   "cell_type": "markdown",
   "id": "efcb50ab",
   "metadata": {},
   "source": [
    "## Question 3\n",
    "\n",
    "On matrix multiplication, $C_{(m \\times n)} = A_{(m \\times p)} B_{(p \\times n)} $ you should note the following.\n",
    "\n",
    "- **Inner product form** of matrix multiplication\n",
    "$$  C_{ij} = A_{i:} B_{:j} = \\sum\\limits_{k=1}^p\\;A_{ik}\\;B_{kj}. $$\n",
    "\n",
    "    - This implies that any specific column of the product could be found in the following way\n",
    "    $$\n",
    "    C_{:j} = [AB]_{:j} = AB_{:j}\n",
    "    $$\n",
    "    - This also implies that any specific row of the product could be found in the following way\n",
    "    $$\n",
    "    C_{i:} = [AB]_{i:} = A_{i:} B\n",
    "    $$\n",
    "- **Outer product form** of matrix multiplication expresses $C$ as a sum of rank one matrices as\n",
    "$$\n",
    "C = A_{:1} B_{1:} + A_{:2} B_{2:} + \\ldots + A_{:p} B_{p:} \n",
    "$$\n",
    "where $A_{:k} B_{k:}$ is a rank-1 matrix of order $m \\times n$ found by the product of column-$k$ of $A$ and row-$k$ of $B$.\n",
    "\n",
    "Answer the following\n",
    "\n",
    "A. Create two random matrices $A$, and $B$ of integers ranging from $-5$ to $5$ of order $3 \\times 5$ and $5 \\times 4$ respectively. Print these matrices.\n",
    "\n",
    "B. Print the second row of the product $AB$ \n",
    "\n",
    "C. Print the submatrix of the product made of the first and the third column without calculating the product.\n",
    "\n",
    "D. Find the submatrix made from the first and third rows and the second and fourth coumns of the product $AB$\n",
    "\n",
    "E. Implement the outer product form of the matrix multiplication as a function. Print the product $AB$ that comes as an output of this function."
   ]
  },
  {
   "cell_type": "markdown",
   "id": "f01dd10f-7e78-4daf-b9f5-ffcb6afc1440",
   "metadata": {},
   "source": [
    "# Solution"
   ]
  },
  {
   "cell_type": "code",
   "execution_count": 15,
   "id": "df32db8d-1203-4f8c-aefd-b933fadb1b33",
   "metadata": {},
   "outputs": [
    {
     "name": "stdout",
     "output_type": "stream",
     "text": [
      "Matrix A:\n",
      " [[-4 -5  4  5  0]\n",
      " [-2  3  3 -2 -5]\n",
      " [-3  4  2 -5 -1]]\n",
      "\n",
      "Matrix B:\n",
      " [[ 5 -5  0  2]\n",
      " [-3  1 -4 -5]\n",
      " [ 3 -2  1  0]\n",
      " [ 2 -1 -1  4]\n",
      " [ 3 -5 -5 -2]]\n"
     ]
    }
   ],
   "source": [
    "# Created a random matrix A of integers between -5 and 5 with shape (3, 5)\n",
    "A = np.random.randint(-5, 6, size=(3, 5))\n",
    "\n",
    "# Created a random matrix B of integers between -5 and 5 with shape (5, 4)\n",
    "B = np.random.randint(-5, 6, size=(5, 4))\n",
    "\n",
    "# Printed matrix A\n",
    "print(\"Matrix A:\\n\", A)\n",
    "\n",
    "# Printed matrix B\n",
    "print(\"\\nMatrix B:\\n\", B)"
   ]
  },
  {
   "cell_type": "code",
   "execution_count": 16,
   "id": "c4f8bfce-a02e-4073-b97c-57d1123226ea",
   "metadata": {},
   "outputs": [
    {
     "name": "stdout",
     "output_type": "stream",
     "text": [
      "\n",
      "Matrix AB (product):\n",
      " [[ 17   2  19  37]\n",
      " [-29  34  18 -17]\n",
      " [-34  25  -4 -44]]\n",
      "\n",
      "Second row of AB:\n",
      " [-29  34  18 -17]\n"
     ]
    }
   ],
   "source": [
    "# B. Now we calculate the product AB and then we print the second row of the product\n",
    "# Here we perform matrix multiplication between A and B using np.dot\n",
    "product_AB = np.dot(A, B)\n",
    "\n",
    "# Here we print the result of matrix multiplication (product of A and B)\n",
    "print(\"\\nMatrix AB (product):\\n\", product_AB)\n",
    "\n",
    "# Now we will extract the second row of the resulting matrix AB\n",
    "second_row_AB = product_AB[1, :]\n",
    "\n",
    "# Print the second row of matrix AB\n",
    "print(\"\\nSecond row of AB:\\n\", second_row_AB)"
   ]
  },
  {
   "cell_type": "code",
   "execution_count": 17,
   "id": "1a22cc85-6f0e-421c-8930-7cefe676f299",
   "metadata": {},
   "outputs": [
    {
     "name": "stdout",
     "output_type": "stream",
     "text": [
      "\n",
      "Submatrix of AB (first and third columns):\n",
      " [[ 17  19]\n",
      " [-29  18]\n",
      " [-34  -4]]\n"
     ]
    }
   ],
   "source": [
    "# C. Now we will print the submatrix of the product AB made of the first and third columns\n",
    "\n",
    "# Here we extract the first and third columns from the product matrix AB\n",
    "submatrix_first_third_col = product_AB[:, [0, 2]]\n",
    "\n",
    "# Print the submatrix containing only the first and third columns of AB\n",
    "print(\"\\nSubmatrix of AB (first and third columns):\\n\", submatrix_first_third_col)\n"
   ]
  },
  {
   "cell_type": "code",
   "execution_count": 18,
   "id": "4b37298a-097c-4875-892f-81d85dd487ce",
   "metadata": {},
   "outputs": [
    {
     "name": "stdout",
     "output_type": "stream",
     "text": [
      "\n",
      "Submatrix of AB (first and third rows, second and fourth columns):\n",
      " [[  2  37]\n",
      " [ 25 -44]]\n"
     ]
    }
   ],
   "source": [
    "# D. Now we will find the submatrix made from the first and third rows and the second and fourth columns of the product AB\n",
    "\n",
    "# Here we extract the first and third rows, and then from those, select the second and fourth columns\n",
    "submatrix_first_third_rows_second_fourth_cols = product_AB[[0, 2], :][:, [1, 3]]\n",
    "\n",
    "# Print the resulting submatrix (first and third rows, second and fourth columns of AB)\n",
    "print(\"\\nSubmatrix of AB (first and third rows, second and fourth columns):\\n\", submatrix_first_third_rows_second_fourth_cols)"
   ]
  },
  {
   "cell_type": "code",
   "execution_count": 19,
   "id": "11c51ed3-a27a-4448-a155-57b0b0aadabb",
   "metadata": {},
   "outputs": [
    {
     "name": "stdout",
     "output_type": "stream",
     "text": [
      "\n",
      "Matrix AB using outer product form:\n",
      " [[ 17.   2.  19.  37.]\n",
      " [-29.  34.  18. -17.]\n",
      " [-34.  25.  -4. -44.]]\n"
     ]
    }
   ],
   "source": [
    "# E. Implement the outer product form of matrix multiplication as a function\n",
    "def outer_product_multiplication(A, B):\n",
    "    result = np.zeros((A.shape[0], B.shape[1]))\n",
    "    for i in range(A.shape[1]):\n",
    "        result += np.outer(A[:, i], B[i, :])\n",
    "    return result\n",
    "\n",
    "# Print the product AB using the outer product form\n",
    "product_AB_outer = outer_product_multiplication(A, B)\n",
    "print(\"\\nMatrix AB using outer product form:\\n\", product_AB_outer)"
   ]
  },
  {
   "cell_type": "markdown",
   "id": "13f1a815",
   "metadata": {},
   "source": [
    "## Question 4\n",
    "\n",
    "Download this text file on your computer [Geetanjali by Tagore](https://www.gutenberg.org/cache/epub/7164/pg7164.txt)\n",
    "\n",
    "Write Python code to read this text file and to answer the following.\n",
    "\n",
    "A. Provide some basic statistics such as number of characters, number of words, and number of sentences in the file.\n",
    "\n",
    "B. Provide a bar-chart for the number of each vowels (including 'y') in this textfile.\n",
    "\n",
    "C. Provide a pie-chart for the number of words of length 3, 4, 5, 6, and other longer words as one category.\n",
    "\n"
   ]
  },
  {
   "cell_type": "markdown",
   "id": "e0e4f1b3-c159-4307-b828-58c6c67a5b9b",
   "metadata": {},
   "source": [
    "# Solution"
   ]
  },
  {
   "cell_type": "code",
   "execution_count": 39,
   "id": "d98ebf60",
   "metadata": {},
   "outputs": [
    {
     "name": "stdout",
     "output_type": "stream",
     "text": [
      "Number of characters: 95136\n",
      "Number of words: 17556\n",
      "Number of sentences: 1092\n",
      "Vowel counts: {'a': 5269, 'e': 9017, 'i': 5158, 'o': 5724, 'u': 1949, 'y': 1876}\n"
     ]
    },
    {
     "data": {
      "image/png": "[encoded data removed]",
      "text/plain": [
       "<Figure size 640x480 with 1 Axes>"
      ]
     },
     "metadata": {},
     "output_type": "display_data"
    },
    {
     "name": "stdout",
     "output_type": "stream",
     "text": [
      "Word length distribution: Counter({'>6': 6914, '3': 3792, '4': 3513, '5': 2058, '6': 1279})\n"
     ]
    },
    {
     "data": {
      "image/png": "[encoded data removed]",
      "text/plain": [
       "<Figure size 640x480 with 1 Axes>"
      ]
     },
     "metadata": {},
     "output_type": "display_data"
    }
   ],
   "source": [
    "# Function to load the text file\n",
    "# This function takes the file path as input, opens the file in read mode, and returns the text content\n",
    "def load_text_file(file_path):\n",
    "    with open(file_path, 'r', encoding='utf-8') as file:\n",
    "        text = file.read()\n",
    "    return text\n",
    "\n",
    "# Function to calculate basic statistics\n",
    "# This function calculates the total number of characters, words, and sentences in the text\n",
    "def basic_statistics(text):\n",
    "    num_characters = len(text)  # Count the number of characters\n",
    "    num_words = len(text.split())  # Split the text by spaces to get words and count them\n",
    "    # Count the number of sentences by looking for '.', '!', and '?' punctuation marks\n",
    "    num_sentences = text.count('.') + text.count('!') + text.count('?')\n",
    "    return num_characters, num_words, num_sentences\n",
    "\n",
    "# Function to count vowels\n",
    "# This function counts the frequency of vowels (including 'y') in the text\n",
    "def count_vowels(text):\n",
    "    vowels = 'aeiouy'  # Define vowels to be counted\n",
    "    text_lower = text.lower()  # Convert text to lowercase to ensure case insensitivity\n",
    "    # Return a dictionary with vowels as keys and their counts as values\n",
    "    return {vowel: text_lower.count(vowel) for vowel in vowels}\n",
    "\n",
    "# Function to count word lengths\n",
    "# This function calculates the frequency of different word lengths (3, 4, 5, 6, and >6) in the text\n",
    "def count_word_lengths(text):\n",
    "    words = text.split()  # Split the text into individual words\n",
    "    # Strip punctuation from each word and count its length\n",
    "    word_lengths = [len(word.strip(string.punctuation)) for word in words]\n",
    "    length_counter = Counter()  # Use a Counter to track the word length frequencies\n",
    "    # Count words of lengths 3, 4, 5, 6, and >6\n",
    "    for length in word_lengths:\n",
    "        if length == 3:\n",
    "            length_counter['3'] += 1\n",
    "        elif length == 4:\n",
    "            length_counter['4'] += 1\n",
    "        elif length == 5:\n",
    "            length_counter['5'] += 1\n",
    "        elif length == 6:\n",
    "            length_counter['6'] += 1\n",
    "        else:\n",
    "            length_counter['>6'] += 1\n",
    "    return length_counter\n",
    "\n",
    "# Function to plot vowel counts in a bar chart\n",
    "# This function visualizes the frequency of vowels in the text using a bar chart\n",
    "def plot_vowel_count(vowel_count):\n",
    "    colors = ['#FFA07A', '#20B2AA', '#778899', '#FF6347', '#4682B4', '#32CD32']  \n",
    "    plt.bar(vowel_count.keys(), vowel_count.values(), color=colors) \n",
    "    plt.title(\"Vowel Counts in Text\", fontsize=12) \n",
    "    plt.xlabel(\"Vowels\", fontsize=10)  \n",
    "    plt.ylabel(\"Frequency\", fontsize=10)  \n",
    "    plt.show()\n",
    "\n",
    "# Function to plot word length distribution in a pie chart\n",
    "# This function visualizes the distribution of word lengths in the text using a pie chart\n",
    "def plot_word_length_distribution(word_length_count):\n",
    "    labels = word_length_count.keys()  \n",
    "    sizes = word_length_count.values()  # Sizes of each pie chart segment (frequency)\n",
    "    colors = ['#FFD700', '#FF4500', '#DA70D6', '#87CEFA', '#90EE90']  # Subtle, different colors for segments\n",
    "    plt.pie(sizes, labels=labels, colors=colors, autopct='%1.1f%%', startangle=90)  # Simple color scheme and percentages\n",
    "    plt.title(\"Word Length Distribution\", fontsize=12)  # Simplified title\n",
    "    plt.axis('equal')  # Ensure the pie chart is circular\n",
    "    plt.show()\n",
    "\n",
    "# Loaded the text file 'Geetanjali by Tagore.txt'\n",
    "text = load_text_file('Geetanjali by Tagore.txt')\n",
    "\n",
    "# Part A: Calculate basic statistics (number of characters, words, and sentences) and print the results\n",
    "num_characters, num_words, num_sentences = basic_statistics(text)\n",
    "print(f\"Number of characters: {num_characters}\")\n",
    "print(f\"Number of words: {num_words}\")\n",
    "print(f\"Number of sentences: {num_sentences}\")\n",
    "\n",
    "# Part B: Count vowels in the text and print the results, then plot a bar chart of vowel frequencies\n",
    "vowel_count = count_vowels(text)\n",
    "print(\"Vowel counts:\", vowel_count)\n",
    "plot_vowel_count(vowel_count)  # Here we will plot the vowel counts\n",
    "\n",
    "# Part C: Count word lengths in the text and print the distribution, then plot a pie chart of word length distribution\n",
    "word_length_count = count_word_lengths(text)\n",
    "print(\"Word length distribution:\", word_length_count)\n",
    "plot_word_length_distribution(word_length_count)  # Here we will plot the word length distribution\n"
   ]
  }
 ],
 "metadata": {
  "kernelspec": {
   "display_name": "Python 3 (ipykernel)",
   "language": "python",
   "name": "python3"
  },
  "language_info": {
   "codemirror_mode": {
    "name": "ipython",
    "version": 3
   },
   "file_extension": ".py",
   "mimetype": "text/x-python",
   "name": "python",
   "nbconvert_exporter": "python",
   "pygments_lexer": "ipython3",
   "version": "3.12.4"
  }
 },
 "nbformat": 4,
 "nbformat_minor": 5
}
