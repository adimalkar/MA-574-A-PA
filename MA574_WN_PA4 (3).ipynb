{
  "cells": [
    {
      "cell_type": "markdown",
      "id": "e989e799",
      "metadata": {
        "id": "e989e799"
      },
      "source": [
        "# Programming Assignment 4\n",
        "---"
      ]
    },
    {
      "cell_type": "markdown",
      "id": "70821540",
      "metadata": {
        "id": "70821540"
      },
      "source": [
        "## Numerical Differentiation\n",
        "---\n",
        "How to find the derivative of a function numerically? The answer is simple; use some kind of approximation to the actual formual for derivatives.\n",
        "\n",
        "- Forward Difference Formula\n",
        "$$\n",
        "f'(a) \\approx \\frac{f(a+h)-f(a)}{h}\n",
        "$$\n",
        "- Backward Difference Formula\n",
        "$$\n",
        "f'(a) \\approx \\frac{f(a)-f(a-h)}{h}\n",
        "$$\n",
        "- Central Difference Formula\n",
        "$$\n",
        "f'(a) \\approx \\frac{f(a+h)-f(a-h)}{2h}\n",
        "$$\n",
        "See [this book](https://pythonnumericalmethods.berkeley.edu/notebooks/chapter20.02-Finite-Difference-Approximating-Derivatives.html) for more details and Python implementation."
      ]
    },
    {
      "cell_type": "code",
      "execution_count": 1,
      "id": "f5839941",
      "metadata": {
        "id": "f5839941"
      },
      "outputs": [],
      "source": [
        "# Forward Difference Formula\n",
        "def fdiff(f,a,h):\n",
        "    derivative_forward_diff = (f(a+h)-f(a))/h\n",
        "    return derivative_forward_diff"
      ]
    },
    {
      "cell_type": "code",
      "execution_count": 2,
      "id": "fae751ad",
      "metadata": {
        "id": "fae751ad"
      },
      "outputs": [],
      "source": [
        "# Backward Difference Formula\n",
        "def bdiff(f,a,h):\n",
        "    derivative_backward_diff = (f(a)-f(a-h))/h\n",
        "    return derivative_backward_diff"
      ]
    },
    {
      "cell_type": "code",
      "execution_count": 3,
      "id": "87856439",
      "metadata": {
        "id": "87856439"
      },
      "outputs": [],
      "source": [
        "# Central Difference Formula\n",
        "def cdiff(f,a,h):\n",
        "    derivative_central_diff = (f(a+h)-f(a-h))/(2*h)\n",
        "    return derivative_central_diff"
      ]
    },
    {
      "cell_type": "markdown",
      "id": "2378ea46",
      "metadata": {
        "id": "2378ea46"
      },
      "source": [
        "## Numerical Integration\n",
        "---\n",
        "### General Riemann Sum\n",
        "$$\\bbox[10px, border: 1px solid blue]{\n",
        "\\int_a^b f(x) \\;dx \\approx \\sum_{i = 1}^{n} f(x_i^*)\\; \\Delta x,\n",
        "}$$\n",
        "where $\\Delta x$ is the width of every subinterval, and $x^*_i$ is the point of the $i$-th subinterval which is\n",
        "- leftmost for left Riemann sum, $L_n$\n",
        "- rightmost point for right Riemann sum, $R_n$\n",
        "- and middle-point for the mid-point sum, $M_n$."
      ]
    },
    {
      "cell_type": "code",
      "execution_count": 4,
      "id": "fb2a4951",
      "metadata": {
        "id": "fb2a4951"
      },
      "outputs": [],
      "source": [
        "'''\n",
        "Following function could be used to find all kinds of Riemann Sums by adjusting the shift\n",
        "argument. Set shift = 0 for left sum, =1 for right sum and 0.5 for mid point sum.\n",
        "'''\n",
        "def RiemannSum(f,a,b,n,shift=0):\n",
        "    if shift < 0 or shift > 1:\n",
        "        print(\"Please provide appropriate value for the shift  from 0 to 1.0.\")\n",
        "        return\n",
        "\n",
        "    deltax = (b-a)/n\n",
        "    sum=0.0\n",
        "    a = a+shift*deltax\n",
        "    for i in range(n):\n",
        "        sum = sum + f(a+i*deltax)\n",
        "    return sum*deltax"
      ]
    },
    {
      "cell_type": "code",
      "execution_count": 5,
      "id": "7dbca871",
      "metadata": {
        "colab": {
          "base_uri": "https://localhost:8080/",
          "height": 0
        },
        "id": "7dbca871",
        "outputId": "d96ddcc4-d4b9-4181-8685-de060ce0a2f0"
      },
      "outputs": [
        {
          "output_type": "stream",
          "name": "stdout",
          "text": [
            "7.99875\n"
          ]
        }
      ],
      "source": [
        "## Example\n",
        "f = lambda x: 3*x**2\n",
        "L40 = RiemannSum(f,0,2,40, shift=0.5)\n",
        "print(L40)"
      ]
    },
    {
      "cell_type": "markdown",
      "id": "9bbf77ef",
      "metadata": {
        "id": "9bbf77ef"
      },
      "source": [
        "### Trapezoidal Rule\n",
        "---\n",
        "The trapezoidal rule for numerical approximation of a definite integral could be thought of as the average fo the left and right Riemann sums.\n",
        "$$\n",
        "\\int_a^b f(x) dx \\approx \\sum_{i=0}^{n-1} f(x_i)  \\Delta x + \\sum_{i=0}^{n-1}  f(x_{i+1}) \\Delta x = \\sum_{i=0}^{n-1} \\frac{f(x_i) + f(x_{i+1})}{2} \\Delta x.\n",
        "$$\n",
        "Or, more efficiently, as\n",
        "\n",
        "$$\n",
        "\\bbox[20px, #caedb4, border: 1px solid gray]{\n",
        "\\int_a^b f(x) dx \\approx \\frac{\\Delta x}{2} \\left(f(x_0) + 2 \\left(\\sum_{i=1}^{n-1} f(x_i)\\right) + f(x_n)\\right).\n",
        "}\n",
        "$$"
      ]
    },
    {
      "cell_type": "code",
      "execution_count": 6,
      "id": "e42adad6",
      "metadata": {
        "id": "e42adad6"
      },
      "outputs": [],
      "source": [
        "def Trapezoidal(f,a,b,n):\n",
        "    deltax = (b-a)/n\n",
        "    sum=0.0\n",
        "    for i in range(1,n):\n",
        "        sum = sum + f(a+i*deltax)\n",
        "    sum = f(a)+2*sum+f(b)\n",
        "    return sum*deltax/2"
      ]
    },
    {
      "cell_type": "code",
      "execution_count": 7,
      "id": "078fdc79",
      "metadata": {
        "colab": {
          "base_uri": "https://localhost:8080/",
          "height": 0
        },
        "id": "078fdc79",
        "outputId": "10bc3d15-caba-40c0-d041-9d867702bdaf"
      },
      "outputs": [
        {
          "output_type": "stream",
          "name": "stdout",
          "text": [
            "8.040000000000001\n"
          ]
        }
      ],
      "source": [
        "## Examples: Note that the correct answer is 8.\n",
        "f = lambda x: 3*x**2\n",
        "T40 = Trapezoidal(f,0,2,10)\n",
        "print(T40)"
      ]
    },
    {
      "cell_type": "markdown",
      "id": "b64f7a6e",
      "metadata": {
        "id": "b64f7a6e"
      },
      "source": [
        "### Simpson's $1/3$-rule\n",
        "Number of subintervals $n$ of $[a,b]$ must be even. Let $n=2m$, then\n",
        "\n",
        "$$\n",
        "\\bbox[20px,#caedb4, border: 1px solid gray]{\n",
        "\\int_a^b f(x) dx \\approx \\frac{\\Delta x}{3} \\left[f(x_0)+4 \\left(\\sum_{i=1}^{m}f(x_{2i-1})\\right)+2 \\left(\\sum_{i=1}^{m-1}f(x_{2i})\\right)+f(x_{2m})\\right].\n",
        "}\n",
        "$$\n",
        "\n",
        "If you are interested to find more about Simpson's method and its implimentation in Python, check this [online book](https://pythonnumericalmethods.berkeley.edu/notebooks/chapter21.04-Simpsons-Rule.html)."
      ]
    },
    {
      "cell_type": "markdown",
      "id": "c98e2db9",
      "metadata": {
        "id": "c98e2db9"
      },
      "source": [
        "---\n",
        "**Question 1** Consider the sigmoid function given by\n",
        "$$\n",
        "\\displaystyle f(x) = \\tanh(x)=\\frac{e^x-e^{-x}}{e^x+e^{-x}}.\n",
        "$$\n",
        "Create a tabular comparison of its exact derivative at $x=0.5$ (find the exact derivative) with the approximations by the three numerical differentiation formulas provided above for $h=0.1,\\ 0.01,\\ 0.001,\\ 0.0001,\\ 0.00001$ etc.  What are your observations?\n",
        "\n",
        "| $h$| Forward difference | Backwards Difference | Central Difference |\n",
        "| :- | -: | :-: |-: |\n",
        "| 0.1 |  | | |\n",
        "| 0.01 |  | | |\n",
        "| 0.001 |  | | |"
      ]
    },
    {
      "cell_type": "code",
      "execution_count": 8,
      "id": "0ccf7654",
      "metadata": {
        "colab": {
          "base_uri": "https://localhost:8080/",
          "height": 0
        },
        "id": "0ccf7654",
        "outputId": "75e4faa1-621a-4fc3-f6a4-c320cca07af1"
      },
      "outputs": [
        {
          "output_type": "stream",
          "name": "stdout",
          "text": [
            "h          | Forward Diff    | Backward Diff   | Central Diff    | Exact Derivative\n",
            "----------------------------------------------------------------------\n",
            "0.1        | 0.7493240974    | 0.8216819500    | 0.7855030237    | 0.7864477330   \n",
            "0.01       | 0.7828041673    | 0.7900724578    | 0.7864383125    | 0.7864477330   \n",
            "0.001      | 0.7860842079    | 0.7868110696    | 0.7864476388    | 0.7864477330   \n",
            "0.0001     | 0.7864113889    | 0.7864840751    | 0.7864477320    | 0.7864477330   \n",
            "1e-05      | 0.7864440986    | 0.7864513673    | 0.7864477330    | 0.7864477330   \n",
            "\n",
            "Observations:\n",
            "As h decreases, the central difference approximation converges faster to the exact derivative compared\n",
            "\n",
            " to the forward and backward differences.\n"
          ]
        }
      ],
      "source": [
        "import numpy as np\n",
        "\n",
        "# Define the function and its exact derivative\n",
        "def f(x):\n",
        "    return np.tanh(x)\n",
        "\n",
        "def exact_derivative(x):\n",
        "    return 1 - np.tanh(x)**2\n",
        "\n",
        "# Numerical differentiation formulas\n",
        "def forward_difference(f, x, h):\n",
        "    return (f(x + h) - f(x)) / h\n",
        "\n",
        "def backward_difference(f, x, h):\n",
        "    return (f(x) - f(x - h)) / h\n",
        "\n",
        "def central_difference(f, x, h):\n",
        "    return (f(x + h) - f(x - h)) / (2 * h)\n",
        "\n",
        "# Point of differentiation and h values\n",
        "x = 0.5\n",
        "h_values = [0.1, 0.01, 0.001, 0.0001, 0.00001]\n",
        "\n",
        "# Exact derivative at x = 0.5\n",
        "exact_value = exact_derivative(x)\n",
        "\n",
        "# Create table for comparison\n",
        "print(f\"{'h':<10} | {'Forward Diff':<15} | {'Backward Diff':<15} | {'Central Diff':<15} | {'Exact Derivative':<15}\")\n",
        "print(\"-\" * 70)\n",
        "for h in h_values:\n",
        "    fwd_diff = forward_difference(f, x, h)\n",
        "    bwd_diff = backward_difference(f, x, h)\n",
        "    cent_diff = central_difference(f, x, h)\n",
        "    print(f\"{h:<10} | {fwd_diff:<15.10f} | {bwd_diff:<15.10f} | {cent_diff:<15.10f} | {exact_value:<15.10f}\")\n",
        "\n",
        "# Observations\n",
        "print(\"\\nObservations:\")\n",
        "print(\"As h decreases, the central difference approximation converges faster to the exact derivative compared\")\n",
        "print(\"\\n to the forward and backward differences.\")"
      ]
    },
    {
      "cell_type": "markdown",
      "id": "99067b70",
      "metadata": {
        "id": "99067b70"
      },
      "source": [
        "**Question 2** Understand the example of implementation of Trapezoidal rule. Modify this code to find the definite integral by Simpson's rule.\n",
        "\n",
        "Evaluate the integral $\\displaystyle \\int\\limits_{-1}^{1} \\frac{1}{1+x^2}$ exactly and compare this with the approximations by\n",
        "\n",
        "1. Mid-point Riemann sum.\n",
        "1. Trapezoidal Rule\n",
        "1. Simpson's Rule\n",
        "\n",
        "Take n=10, 20, 40, 60, 100 above and make a tabular comparison. What are your observations?\n",
        "\n",
        "| $n$| Mid-point Sum | Trapezoidal Rule | Simpson's Rule |\n",
        "| :- | -: | :-: |-: |\n",
        "| 10 |  | | |\n",
        "| 20 |  | | |"
      ]
    },
    {
      "cell_type": "code",
      "execution_count": 9,
      "id": "7f8baa68",
      "metadata": {
        "colab": {
          "base_uri": "https://localhost:8080/",
          "height": 0
        },
        "id": "7f8baa68",
        "outputId": "b1877428-750a-4404-97a6-e329625b5915"
      },
      "outputs": [
        {
          "output_type": "stream",
          "name": "stdout",
          "text": [
            "n          | Mid-point Sum        | Trapezoidal Rule     | Simpson Rule         | Exact Value         \n",
            "------------------------------------------------------------------------------------------\n",
            "10         | 1.5724629320         | 1.5674630569         | 1.5707953881         | 1.5707963268        \n",
            "20         | 1.5712129925         | 1.5699629945         | 1.5707963070         | 1.5707963268        \n",
            "40         | 1.5709004934         | 1.5705879935         | 1.5707963265         | 1.5707963268        \n",
            "60         | 1.5708426231         | 1.5707037342         | 1.5707963268         | 1.5707963268        \n",
            "100        | 1.5708129935         | 1.5707629935         | 1.5707963268         | 1.5707963268        \n",
            "\n",
            "Observations:\n",
            "Simpson's Rule converges to the exact value faster than the Mid-point Riemann sum and Trapezoidal Rule as n increases.\n"
          ]
        }
      ],
      "source": [
        "import numpy as np\n",
        "\n",
        "# Define the function to integrate\n",
        "def f(x):\n",
        "    return 1 / (1 + x**2)\n",
        "\n",
        "# Mid-point Riemann sum\n",
        "def midpoint_riemann_sum(f, a, b, n):\n",
        "    h = (b - a) / n\n",
        "    result = sum(f(a + (i + 0.5) * h) for i in range(n)) * h\n",
        "    return result\n",
        "\n",
        "# Trapezoidal rule\n",
        "def trapezoidal_rule(f, a, b, n):\n",
        "    h = (b - a) / n\n",
        "    result = 0.5 * (f(a) + f(b)) + sum(f(a + i * h) for i in range(1, n))\n",
        "    return result * h\n",
        "\n",
        "# Simpson's rule\n",
        "def simpsons_rule(f, a, b, n):\n",
        "    if n % 2 == 1:  # Simpson's rule requires an even number of intervals\n",
        "        n += 1\n",
        "    h = (b - a) / n\n",
        "    result = f(a) + f(b) + 4 * sum(f(a + (i * h)) for i in range(1, n, 2)) + 2 * sum(f(a + (i * h)) for i in range(2, n - 1, 2))\n",
        "    return result * h / 3\n",
        "\n",
        "# Limits of integration\n",
        "a, b = -1, 1\n",
        "# Number of intervals\n",
        "n_values = [10, 20, 40, 60, 100]\n",
        "\n",
        "# Exact value of the integral\n",
        "exact_value = np.arctan(b) - np.arctan(a)\n",
        "\n",
        "# Create table for comparison with improved formatting\n",
        "print(f\"{'n':<10} | {'Mid-point Sum':<20} | {'Trapezoidal Rule':<20} | {'Simpson Rule':<20} | {'Exact Value':<20}\")\n",
        "print(\"-\" * 90)\n",
        "for n in n_values:\n",
        "    mid_point = midpoint_riemann_sum(f, a, b, n)\n",
        "    trapezoidal = trapezoidal_rule(f, a, b, n)\n",
        "    simpson = simpsons_rule(f, a, b, n)\n",
        "    print(f\"{n:<10} | {mid_point:<20.10f} | {trapezoidal:<20.10f} | {simpson:<20.10f} | {exact_value:<20.10f}\")\n",
        "\n",
        "# Observations\n",
        "print(\"\\nObservations:\")\n",
        "print(\"Simpson's Rule converges to the exact value faster than the Mid-point Riemann sum and Trapezoidal Rule as n increases.\")"
      ]
    },
    {
      "cell_type": "markdown",
      "id": "f0206dac",
      "metadata": {
        "id": "f0206dac"
      },
      "source": [
        "## Question 3\n",
        "How do we find the roots of a general nonlinear function $F(x)$ for which we do not have a formula such as quadratic formula? We need to use some numerical method for this. Newton's method is one such approach. Here is a [good reference](https://math.libretexts.org/Bookshelves/Calculus/Calculus_(OpenStax)/04%3A_Applications_of_Derivatives/4.09%3A_Newtons_Method). In this iterative method we start with some initialization for the root $x^{(0)}$ and we improve upon the roots by using the following iteration\n",
        "$$\\bbox[20px, #caedb4, border: 1px solid gray]{\n",
        "x^{(k+1)}=x^{(k)} - \\frac{F(x^{(k)})}{F'(x^{(k)})}\n",
        "}\n",
        "$$\n",
        "This iterative routine generaly converges fast as long as the derivatives $F'(x^{(k)})$ are not close to zero and the initialization is clost to one of the zeros.\n",
        "\n",
        "One can check that every subsequent iteration is the $x$-intercept of the tangent line at the previous iteration as shown in the figure.\n",
        "\n",
        "![NewtonMethod.png](attachment:NewtonMethod.png)"
      ]
    },
    {
      "cell_type": "markdown",
      "id": "43314fac",
      "metadata": {
        "id": "43314fac"
      },
      "source": [
        "Write a Python function to implement Newton's Method. Find a solution of the equation $3x^3-11x^2+4x=0$ starting from the initialization $x^{(0)}=5$.\n",
        "Make a table of iterates as the following.\n",
        "\n",
        "| $k$ | $x^{(k)}$ | $F(x^{(k)})$ | $F'(x^{(k)})$ |$x^{(k+1)}$|\n",
        "| :- | -: | :-: |-: |-: |\n",
        "| $0$ |  |  |  |  |\n",
        "| $1$ |  |  |  |  |"
      ]
    },
    {
      "cell_type": "code",
      "execution_count": 10,
      "id": "4e2d4126",
      "metadata": {
        "colab": {
          "base_uri": "https://localhost:8080/",
          "height": 0
        },
        "id": "4e2d4126",
        "outputId": "bc3e987d-1f0f-438d-8036-7c205ef3461b"
      },
      "outputs": [
        {
          "output_type": "stream",
          "name": "stdout",
          "text": [
            "k    x^(k)          F(x^(k))       DF(x^(k))      x^(k+1)        \n",
            "-----------------------------------------------------------------\n",
            "0    6.0000000000   276.0000000000 196.0000000000 4.5918367347   \n",
            "1    4.5918367347   76.8888813335  92.7442732195  3.7627949118   \n",
            "2    3.7627949118   19.1343111292  48.6461418745  3.3694582485   \n",
            "3    3.3694582485   3.3549895630   32.0511585267  3.2647821707   \n",
            "4    3.2647821707   0.2083061238   28.1040158426  3.2573702006   \n",
            "5    3.2573702006   0.0010086930   27.8320012013  3.2573339584   \n",
            "6    3.2573339584   0.0000000241   27.8306735647  3.2573339576   \n"
          ]
        }
      ],
      "source": [
        "import numpy as np\n",
        "\n",
        "# Define the function F(x) and its derivative F'(x)\n",
        "def F(x):\n",
        "    return 3 * x**3 - 11 * x**2 + 4 * x\n",
        "\n",
        "def F_prime(x):\n",
        "    return 9 * x**2 - 22 * x + 4\n",
        "\n",
        "# Newton's method implementation\n",
        "def newton_solver(F, F_prime, x0, max_iter=20, tolerance=1e-7):\n",
        "    x = x0\n",
        "    iterates = []\n",
        "\n",
        "    for k in range(max_iter):\n",
        "        Fx = F(x)\n",
        "        Fpx = F_prime(x)\n",
        "\n",
        "        # Prevent division by zero\n",
        "        if Fpx == 0:\n",
        "            print(\"Derivative is zero; Newton's method fails.\")\n",
        "            break\n",
        "\n",
        "        # Newton's iteration\n",
        "        x_next = x - Fx / Fpx\n",
        "        iterates.append((k, x, Fx, Fpx, x_next))\n",
        "\n",
        "        # Check if convergence criterion is met\n",
        "        if abs(x_next - x) < tolerance:\n",
        "            break\n",
        "\n",
        "        x = x_next\n",
        "\n",
        "    return iterates\n",
        "\n",
        "# Initial guess and run Newton's method\n",
        "x0 = 6\n",
        "iterates = newton_solver(F, F_prime, x0)\n",
        "\n",
        "# Print the table of iterates\n",
        "print(f\"{'k':<5}{'x^(k)':<15}{'F(x^(k))':<15}{'DF''(x^(k))':<15}{'x^(k+1)':<15}\")\n",
        "print(\"-\" * 65)\n",
        "for k, xk, Fxk, Fpxk, x_next in iterates:\n",
        "    print(f\"{k:<5}{xk:<15.10f}{Fxk:<15.10f}{Fpxk:<15.10f}{x_next:<15.10f}\")\n"
      ]
    }
  ],
  "metadata": {
    "kernelspec": {
      "display_name": "Python 3",
      "name": "python3"
    },
    "language_info": {
      "codemirror_mode": {
        "name": "ipython",
        "version": 3
      },
      "file_extension": ".py",
      "mimetype": "text/x-python",
      "name": "python",
      "nbconvert_exporter": "python",
      "pygments_lexer": "ipython3",
      "version": "3.9.7"
    },
    "colab": {
      "provenance": [],
      "machine_shape": "hm",
      "gpuType": "T4"
    },
    "accelerator": "GPU"
  },
  "nbformat": 4,
  "nbformat_minor": 5
}